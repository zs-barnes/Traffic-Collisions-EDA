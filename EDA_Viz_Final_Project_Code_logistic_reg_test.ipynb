{
 "cells": [
  {
   "cell_type": "markdown",
   "metadata": {},
   "source": [
    "#### EDA and Visualization Final Project: Data Prep and Analysis\n",
    "###### Zachary Barnes and Bing Wang"
   ]
  },
  {
   "cell_type": "markdown",
   "metadata": {},
   "source": [
    "##### Housekeeping"
   ]
  },
  {
   "cell_type": "code",
   "execution_count": 2,
   "metadata": {},
   "outputs": [],
   "source": [
    "# Load Python libraries\n",
    "import os\n",
    "import numpy as np\n",
    "import pandas as pd\n",
    "\n",
    "# Run R code adjacent to Python code\n",
    "%load_ext rpy2.ipython\n",
    "\n",
    "# Load ggplot R library\n",
    "%R library(ggplot2)\n",
    "%R library(scales)\n",
    "\n",
    "# Avoid kernal death\n",
    "os.environ['KMP_DUPLICATE_LIB_OK']='True'"
   ]
  },
  {
   "cell_type": "markdown",
   "metadata": {},
   "source": [
    "##### Read in and organize data (Collisions and Victims datasets, from TIMS)"
   ]
  },
  {
   "cell_type": "code",
   "execution_count": 3,
   "metadata": {},
   "outputs": [
    {
     "data": {
      "text/html": [
       "<div>\n",
       "<style scoped>\n",
       "    .dataframe tbody tr th:only-of-type {\n",
       "        vertical-align: middle;\n",
       "    }\n",
       "\n",
       "    .dataframe tbody tr th {\n",
       "        vertical-align: top;\n",
       "    }\n",
       "\n",
       "    .dataframe thead th {\n",
       "        text-align: right;\n",
       "    }\n",
       "</style>\n",
       "<table border=\"1\" class=\"dataframe\">\n",
       "  <thead>\n",
       "    <tr style=\"text-align: right;\">\n",
       "      <th></th>\n",
       "      <th>CASE_ID</th>\n",
       "      <th>INTERSECTION</th>\n",
       "      <th>COLLISION_SEVERITY</th>\n",
       "      <th>LIGHTING</th>\n",
       "      <th>LOCATION_TYPE</th>\n",
       "      <th>MVIW</th>\n",
       "      <th>TYPE_OF_COLLISION</th>\n",
       "      <th>WEATHER_1</th>\n",
       "      <th>LATITUDE</th>\n",
       "      <th>LONGITUDE</th>\n",
       "      <th>PRIMARY_RD</th>\n",
       "      <th>SECONDARY_RD</th>\n",
       "      <th>POINT_X</th>\n",
       "      <th>POINT_Y</th>\n",
       "    </tr>\n",
       "  </thead>\n",
       "  <tbody>\n",
       "    <tr>\n",
       "      <th>1443</th>\n",
       "      <td>8698534</td>\n",
       "      <td>N</td>\n",
       "      <td>4</td>\n",
       "      <td>C</td>\n",
       "      <td>NaN</td>\n",
       "      <td>C</td>\n",
       "      <td>D</td>\n",
       "      <td>A</td>\n",
       "      <td>NaN</td>\n",
       "      <td>NaN</td>\n",
       "      <td>MISSION ST</td>\n",
       "      <td>ANTHONY ST</td>\n",
       "      <td>-122.399355</td>\n",
       "      <td>37.788361</td>\n",
       "    </tr>\n",
       "    <tr>\n",
       "      <th>2169</th>\n",
       "      <td>8639090</td>\n",
       "      <td>Y</td>\n",
       "      <td>3</td>\n",
       "      <td>A</td>\n",
       "      <td>NaN</td>\n",
       "      <td>C</td>\n",
       "      <td>D</td>\n",
       "      <td>A</td>\n",
       "      <td>NaN</td>\n",
       "      <td>NaN</td>\n",
       "      <td>FOLSOM ST</td>\n",
       "      <td>25TH ST</td>\n",
       "      <td>-122.413940</td>\n",
       "      <td>37.750920</td>\n",
       "    </tr>\n",
       "    <tr>\n",
       "      <th>1972</th>\n",
       "      <td>8656370</td>\n",
       "      <td>N</td>\n",
       "      <td>4</td>\n",
       "      <td>A</td>\n",
       "      <td>NaN</td>\n",
       "      <td>G</td>\n",
       "      <td>D</td>\n",
       "      <td>A</td>\n",
       "      <td>NaN</td>\n",
       "      <td>NaN</td>\n",
       "      <td>CLAY ST</td>\n",
       "      <td>BATTERY ST</td>\n",
       "      <td>-122.400863</td>\n",
       "      <td>37.794936</td>\n",
       "    </tr>\n",
       "    <tr>\n",
       "      <th>2820</th>\n",
       "      <td>8594806</td>\n",
       "      <td>N</td>\n",
       "      <td>4</td>\n",
       "      <td>C</td>\n",
       "      <td>NaN</td>\n",
       "      <td>G</td>\n",
       "      <td>C</td>\n",
       "      <td>A</td>\n",
       "      <td>NaN</td>\n",
       "      <td>NaN</td>\n",
       "      <td>9TH ST</td>\n",
       "      <td>MARKET ST</td>\n",
       "      <td>-122.415766</td>\n",
       "      <td>37.777054</td>\n",
       "    </tr>\n",
       "    <tr>\n",
       "      <th>3528</th>\n",
       "      <td>90764740</td>\n",
       "      <td>N</td>\n",
       "      <td>4</td>\n",
       "      <td>A</td>\n",
       "      <td>NaN</td>\n",
       "      <td>C</td>\n",
       "      <td>C</td>\n",
       "      <td>B</td>\n",
       "      <td>37.72195</td>\n",
       "      <td>-122.40035</td>\n",
       "      <td>US-101 N/B</td>\n",
       "      <td>PAUL AVE U/C</td>\n",
       "      <td>-122.400369</td>\n",
       "      <td>37.721943</td>\n",
       "    </tr>\n",
       "  </tbody>\n",
       "</table>\n",
       "</div>"
      ],
      "text/plain": [
       "       CASE_ID INTERSECTION  COLLISION_SEVERITY LIGHTING LOCATION_TYPE MVIW  \\\n",
       "1443   8698534            N                   4        C           NaN    C   \n",
       "2169   8639090            Y                   3        A           NaN    C   \n",
       "1972   8656370            N                   4        A           NaN    G   \n",
       "2820   8594806            N                   4        C           NaN    G   \n",
       "3528  90764740            N                   4        A           NaN    C   \n",
       "\n",
       "     TYPE_OF_COLLISION WEATHER_1  LATITUDE  LONGITUDE  PRIMARY_RD  \\\n",
       "1443                 D         A       NaN        NaN  MISSION ST   \n",
       "2169                 D         A       NaN        NaN   FOLSOM ST   \n",
       "1972                 D         A       NaN        NaN     CLAY ST   \n",
       "2820                 C         A       NaN        NaN      9TH ST   \n",
       "3528                 C         B  37.72195 -122.40035  US-101 N/B   \n",
       "\n",
       "      SECONDARY_RD     POINT_X    POINT_Y  \n",
       "1443    ANTHONY ST -122.399355  37.788361  \n",
       "2169       25TH ST -122.413940  37.750920  \n",
       "1972    BATTERY ST -122.400863  37.794936  \n",
       "2820     MARKET ST -122.415766  37.777054  \n",
       "3528  PAUL AVE U/C -122.400369  37.721943  "
      ]
     },
     "execution_count": 3,
     "metadata": {},
     "output_type": "execute_result"
    }
   ],
   "source": [
    "c = pd.read_csv(\"Collisions.csv\")\n",
    "\n",
    "# Keep only relevant columns\n",
    "c = c[['CASE_ID','INTERSECTION','COLLISION_SEVERITY',\n",
    "        'LIGHTING','LOCATION_TYPE','MVIW','TYPE_OF_COLLISION',\n",
    "        'WEATHER_1','LATITUDE','LONGITUDE','PRIMARY_RD',\n",
    "        'SECONDARY_RD','POINT_X','POINT_Y']]\n",
    "c.sample(5)"
   ]
  },
  {
   "cell_type": "code",
   "execution_count": 4,
   "metadata": {},
   "outputs": [
    {
     "data": {
      "text/html": [
       "<div>\n",
       "<style scoped>\n",
       "    .dataframe tbody tr th:only-of-type {\n",
       "        vertical-align: middle;\n",
       "    }\n",
       "\n",
       "    .dataframe tbody tr th {\n",
       "        vertical-align: top;\n",
       "    }\n",
       "\n",
       "    .dataframe thead th {\n",
       "        text-align: right;\n",
       "    }\n",
       "</style>\n",
       "<table border=\"1\" class=\"dataframe\">\n",
       "  <thead>\n",
       "    <tr style=\"text-align: right;\">\n",
       "      <th></th>\n",
       "      <th>CASE_ID</th>\n",
       "      <th>VICTIM_DEGREE_OF_INJURY</th>\n",
       "      <th>VICTIM_ROLE</th>\n",
       "      <th>VICTIM_AGE</th>\n",
       "    </tr>\n",
       "  </thead>\n",
       "  <tbody>\n",
       "    <tr>\n",
       "      <th>3090</th>\n",
       "      <td>8636992</td>\n",
       "      <td>0</td>\n",
       "      <td>2</td>\n",
       "      <td>41</td>\n",
       "    </tr>\n",
       "    <tr>\n",
       "      <th>3663</th>\n",
       "      <td>8617240</td>\n",
       "      <td>3</td>\n",
       "      <td>4</td>\n",
       "      <td>38</td>\n",
       "    </tr>\n",
       "    <tr>\n",
       "      <th>4134</th>\n",
       "      <td>8594574</td>\n",
       "      <td>0</td>\n",
       "      <td>2</td>\n",
       "      <td>19</td>\n",
       "    </tr>\n",
       "    <tr>\n",
       "      <th>2704</th>\n",
       "      <td>8656390</td>\n",
       "      <td>4</td>\n",
       "      <td>4</td>\n",
       "      <td>28</td>\n",
       "    </tr>\n",
       "    <tr>\n",
       "      <th>4162</th>\n",
       "      <td>8594241</td>\n",
       "      <td>4</td>\n",
       "      <td>1</td>\n",
       "      <td>38</td>\n",
       "    </tr>\n",
       "  </tbody>\n",
       "</table>\n",
       "</div>"
      ],
      "text/plain": [
       "      CASE_ID  VICTIM_DEGREE_OF_INJURY  VICTIM_ROLE  VICTIM_AGE\n",
       "3090  8636992                        0            2          41\n",
       "3663  8617240                        3            4          38\n",
       "4134  8594574                        0            2          19\n",
       "2704  8656390                        4            4          28\n",
       "4162  8594241                        4            1          38"
      ]
     },
     "execution_count": 4,
     "metadata": {},
     "output_type": "execute_result"
    }
   ],
   "source": [
    "v = pd.read_csv('Victims.csv')\n",
    "\n",
    "# Keep only relevant columns\n",
    "v = v[['CASE_ID','VICTIM_DEGREE_OF_INJURY','VICTIM_ROLE','VICTIM_AGE']]\n",
    "v.sample(5)\n"
   ]
  },
  {
   "cell_type": "code",
   "execution_count": 5,
   "metadata": {},
   "outputs": [
    {
     "data": {
      "text/html": [
       "<div>\n",
       "<style scoped>\n",
       "    .dataframe tbody tr th:only-of-type {\n",
       "        vertical-align: middle;\n",
       "    }\n",
       "\n",
       "    .dataframe tbody tr th {\n",
       "        vertical-align: top;\n",
       "    }\n",
       "\n",
       "    .dataframe thead th {\n",
       "        text-align: right;\n",
       "    }\n",
       "</style>\n",
       "<table border=\"1\" class=\"dataframe\">\n",
       "  <thead>\n",
       "    <tr style=\"text-align: right;\">\n",
       "      <th></th>\n",
       "      <th>CASE_ID</th>\n",
       "      <th>INTERSECTION</th>\n",
       "      <th>COLLISION_SEVERITY</th>\n",
       "      <th>LIGHTING</th>\n",
       "      <th>LOCATION_TYPE</th>\n",
       "      <th>MVIW</th>\n",
       "      <th>TYPE_OF_COLLISION</th>\n",
       "      <th>WEATHER_1</th>\n",
       "      <th>LATITUDE</th>\n",
       "      <th>LONGITUDE</th>\n",
       "      <th>PRIMARY_RD</th>\n",
       "      <th>SECONDARY_RD</th>\n",
       "      <th>POINT_X</th>\n",
       "      <th>POINT_Y</th>\n",
       "      <th>VICTIM_DEGREE_OF_INJURY</th>\n",
       "      <th>VICTIM_ROLE</th>\n",
       "      <th>VICTIM_AGE</th>\n",
       "    </tr>\n",
       "  </thead>\n",
       "  <tbody>\n",
       "    <tr>\n",
       "      <th>1741</th>\n",
       "      <td>8718746</td>\n",
       "      <td>N</td>\n",
       "      <td>3</td>\n",
       "      <td>C</td>\n",
       "      <td>NaN</td>\n",
       "      <td>B</td>\n",
       "      <td>G</td>\n",
       "      <td>A</td>\n",
       "      <td>NaN</td>\n",
       "      <td>NaN</td>\n",
       "      <td>FOLSOM ST</td>\n",
       "      <td>PRECITA AV</td>\n",
       "      <td>-122.413546</td>\n",
       "      <td>37.746757</td>\n",
       "      <td>3</td>\n",
       "      <td>3</td>\n",
       "      <td>17</td>\n",
       "    </tr>\n",
       "    <tr>\n",
       "      <th>1313</th>\n",
       "      <td>8754840</td>\n",
       "      <td>Y</td>\n",
       "      <td>3</td>\n",
       "      <td>A</td>\n",
       "      <td>NaN</td>\n",
       "      <td>G</td>\n",
       "      <td>F</td>\n",
       "      <td>A</td>\n",
       "      <td>NaN</td>\n",
       "      <td>NaN</td>\n",
       "      <td>ALEMANY BL</td>\n",
       "      <td>COTTER ST</td>\n",
       "      <td>-122.435020</td>\n",
       "      <td>37.728200</td>\n",
       "      <td>0</td>\n",
       "      <td>2</td>\n",
       "      <td>15</td>\n",
       "    </tr>\n",
       "    <tr>\n",
       "      <th>5231</th>\n",
       "      <td>8552811</td>\n",
       "      <td>N</td>\n",
       "      <td>3</td>\n",
       "      <td>A</td>\n",
       "      <td>NaN</td>\n",
       "      <td>I</td>\n",
       "      <td>F</td>\n",
       "      <td>A</td>\n",
       "      <td>NaN</td>\n",
       "      <td>NaN</td>\n",
       "      <td>3RD ST</td>\n",
       "      <td>16TH ST</td>\n",
       "      <td>-122.389088</td>\n",
       "      <td>37.765688</td>\n",
       "      <td>3</td>\n",
       "      <td>1</td>\n",
       "      <td>33</td>\n",
       "    </tr>\n",
       "    <tr>\n",
       "      <th>2642</th>\n",
       "      <td>8685710</td>\n",
       "      <td>Y</td>\n",
       "      <td>4</td>\n",
       "      <td>A</td>\n",
       "      <td>NaN</td>\n",
       "      <td>C</td>\n",
       "      <td>A</td>\n",
       "      <td>A</td>\n",
       "      <td>NaN</td>\n",
       "      <td>NaN</td>\n",
       "      <td>S VAN NESS AV</td>\n",
       "      <td>13TH ST</td>\n",
       "      <td>-122.417770</td>\n",
       "      <td>37.769720</td>\n",
       "      <td>4</td>\n",
       "      <td>2</td>\n",
       "      <td>48</td>\n",
       "    </tr>\n",
       "    <tr>\n",
       "      <th>2928</th>\n",
       "      <td>8664179</td>\n",
       "      <td>Y</td>\n",
       "      <td>4</td>\n",
       "      <td>B</td>\n",
       "      <td>NaN</td>\n",
       "      <td>C</td>\n",
       "      <td>D</td>\n",
       "      <td>A</td>\n",
       "      <td>NaN</td>\n",
       "      <td>NaN</td>\n",
       "      <td>FELL ST</td>\n",
       "      <td>SHRADER ST</td>\n",
       "      <td>-122.452410</td>\n",
       "      <td>37.772150</td>\n",
       "      <td>4</td>\n",
       "      <td>2</td>\n",
       "      <td>11</td>\n",
       "    </tr>\n",
       "  </tbody>\n",
       "</table>\n",
       "</div>"
      ],
      "text/plain": [
       "      CASE_ID INTERSECTION  COLLISION_SEVERITY LIGHTING LOCATION_TYPE MVIW  \\\n",
       "1741  8718746            N                   3        C           NaN    B   \n",
       "1313  8754840            Y                   3        A           NaN    G   \n",
       "5231  8552811            N                   3        A           NaN    I   \n",
       "2642  8685710            Y                   4        A           NaN    C   \n",
       "2928  8664179            Y                   4        B           NaN    C   \n",
       "\n",
       "     TYPE_OF_COLLISION WEATHER_1  LATITUDE  LONGITUDE     PRIMARY_RD  \\\n",
       "1741                 G         A       NaN        NaN      FOLSOM ST   \n",
       "1313                 F         A       NaN        NaN     ALEMANY BL   \n",
       "5231                 F         A       NaN        NaN         3RD ST   \n",
       "2642                 A         A       NaN        NaN  S VAN NESS AV   \n",
       "2928                 D         A       NaN        NaN        FELL ST   \n",
       "\n",
       "     SECONDARY_RD     POINT_X    POINT_Y  VICTIM_DEGREE_OF_INJURY  \\\n",
       "1741   PRECITA AV -122.413546  37.746757                        3   \n",
       "1313    COTTER ST -122.435020  37.728200                        0   \n",
       "5231      16TH ST -122.389088  37.765688                        3   \n",
       "2642      13TH ST -122.417770  37.769720                        4   \n",
       "2928   SHRADER ST -122.452410  37.772150                        4   \n",
       "\n",
       "      VICTIM_ROLE  VICTIM_AGE  \n",
       "1741            3          17  \n",
       "1313            2          15  \n",
       "5231            1          33  \n",
       "2642            2          48  \n",
       "2928            2          11  "
      ]
     },
     "execution_count": 5,
     "metadata": {},
     "output_type": "execute_result"
    }
   ],
   "source": [
    "# Merge Collisions and Victims datasets\n",
    "cv = pd.merge(c, v, how='left', on='CASE_ID')\n",
    "cv.sample(5)"
   ]
  },
  {
   "cell_type": "code",
   "execution_count": 6,
   "metadata": {},
   "outputs": [],
   "source": [
    "# Paul's Function to remove NaNs from columns\n",
    "def fixDFcolsForR(myDF):\n",
    "    for i in range(myDF.shape[1]): # for each col\n",
    "        if myDF.iloc[:, i].dtype == 'O': # check if col is type object\n",
    "            myDF.iloc[:, i] = myDF.iloc[:, i].astype(str) # if yes set type to string\n",
    "    return myDF"
   ]
  },
  {
   "cell_type": "code",
   "execution_count": 7,
   "metadata": {},
   "outputs": [
    {
     "data": {
      "text/html": [
       "<div>\n",
       "<style scoped>\n",
       "    .dataframe tbody tr th:only-of-type {\n",
       "        vertical-align: middle;\n",
       "    }\n",
       "\n",
       "    .dataframe tbody tr th {\n",
       "        vertical-align: top;\n",
       "    }\n",
       "\n",
       "    .dataframe thead th {\n",
       "        text-align: right;\n",
       "    }\n",
       "</style>\n",
       "<table border=\"1\" class=\"dataframe\">\n",
       "  <thead>\n",
       "    <tr style=\"text-align: right;\">\n",
       "      <th></th>\n",
       "      <th>CASE_ID</th>\n",
       "      <th>INTERSECTION</th>\n",
       "      <th>COLLISION_SEVERITY</th>\n",
       "      <th>LIGHTING</th>\n",
       "      <th>LOCATION_TYPE</th>\n",
       "      <th>MVIW</th>\n",
       "      <th>TYPE_OF_COLLISION</th>\n",
       "      <th>WEATHER_1</th>\n",
       "      <th>LATITUDE</th>\n",
       "      <th>LONGITUDE</th>\n",
       "      <th>PRIMARY_RD</th>\n",
       "      <th>SECONDARY_RD</th>\n",
       "      <th>POINT_X</th>\n",
       "      <th>POINT_Y</th>\n",
       "      <th>VICTIM_DEGREE_OF_INJURY</th>\n",
       "      <th>VICTIM_ROLE</th>\n",
       "      <th>VICTIM_AGE</th>\n",
       "    </tr>\n",
       "  </thead>\n",
       "  <tbody>\n",
       "    <tr>\n",
       "      <th>946</th>\n",
       "      <td>8758263</td>\n",
       "      <td>Y</td>\n",
       "      <td>4</td>\n",
       "      <td>C</td>\n",
       "      <td>nan</td>\n",
       "      <td>B</td>\n",
       "      <td>G</td>\n",
       "      <td>C</td>\n",
       "      <td>NaN</td>\n",
       "      <td>NaN</td>\n",
       "      <td>GEARY ST</td>\n",
       "      <td>KEARNY ST</td>\n",
       "      <td>-122.40351</td>\n",
       "      <td>37.78795</td>\n",
       "      <td>4</td>\n",
       "      <td>3</td>\n",
       "      <td>70</td>\n",
       "    </tr>\n",
       "    <tr>\n",
       "      <th>1842</th>\n",
       "      <td>8716533</td>\n",
       "      <td>Y</td>\n",
       "      <td>3</td>\n",
       "      <td>C</td>\n",
       "      <td>nan</td>\n",
       "      <td>C</td>\n",
       "      <td>D</td>\n",
       "      <td>A</td>\n",
       "      <td>NaN</td>\n",
       "      <td>NaN</td>\n",
       "      <td>FOLSOM ST</td>\n",
       "      <td>19TH ST</td>\n",
       "      <td>-122.41482</td>\n",
       "      <td>37.76049</td>\n",
       "      <td>4</td>\n",
       "      <td>2</td>\n",
       "      <td>27</td>\n",
       "    </tr>\n",
       "    <tr>\n",
       "      <th>3396</th>\n",
       "      <td>8637023</td>\n",
       "      <td>Y</td>\n",
       "      <td>4</td>\n",
       "      <td>A</td>\n",
       "      <td>nan</td>\n",
       "      <td>C</td>\n",
       "      <td>D</td>\n",
       "      <td>C</td>\n",
       "      <td>NaN</td>\n",
       "      <td>NaN</td>\n",
       "      <td>WEBSTER ST</td>\n",
       "      <td>UNION ST</td>\n",
       "      <td>-122.43384</td>\n",
       "      <td>37.79730</td>\n",
       "      <td>4</td>\n",
       "      <td>2</td>\n",
       "      <td>77</td>\n",
       "    </tr>\n",
       "    <tr>\n",
       "      <th>1125</th>\n",
       "      <td>8758094</td>\n",
       "      <td>Y</td>\n",
       "      <td>4</td>\n",
       "      <td>A</td>\n",
       "      <td>nan</td>\n",
       "      <td>-</td>\n",
       "      <td>D</td>\n",
       "      <td>A</td>\n",
       "      <td>NaN</td>\n",
       "      <td>NaN</td>\n",
       "      <td>3RD ST</td>\n",
       "      <td>LE CONTE AV</td>\n",
       "      <td>-122.39757</td>\n",
       "      <td>37.71887</td>\n",
       "      <td>0</td>\n",
       "      <td>2</td>\n",
       "      <td>998</td>\n",
       "    </tr>\n",
       "    <tr>\n",
       "      <th>826</th>\n",
       "      <td>8763985</td>\n",
       "      <td>Y</td>\n",
       "      <td>4</td>\n",
       "      <td>A</td>\n",
       "      <td>nan</td>\n",
       "      <td>B</td>\n",
       "      <td>G</td>\n",
       "      <td>B</td>\n",
       "      <td>NaN</td>\n",
       "      <td>NaN</td>\n",
       "      <td>CHURCH ST</td>\n",
       "      <td>17TH ST</td>\n",
       "      <td>-122.42851</td>\n",
       "      <td>37.76288</td>\n",
       "      <td>4</td>\n",
       "      <td>3</td>\n",
       "      <td>83</td>\n",
       "    </tr>\n",
       "  </tbody>\n",
       "</table>\n",
       "</div>"
      ],
      "text/plain": [
       "      CASE_ID INTERSECTION  COLLISION_SEVERITY LIGHTING LOCATION_TYPE MVIW  \\\n",
       "946   8758263            Y                   4        C           nan    B   \n",
       "1842  8716533            Y                   3        C           nan    C   \n",
       "3396  8637023            Y                   4        A           nan    C   \n",
       "1125  8758094            Y                   4        A           nan    -   \n",
       "826   8763985            Y                   4        A           nan    B   \n",
       "\n",
       "     TYPE_OF_COLLISION WEATHER_1  LATITUDE  LONGITUDE  PRIMARY_RD  \\\n",
       "946                  G         C       NaN        NaN    GEARY ST   \n",
       "1842                 D         A       NaN        NaN   FOLSOM ST   \n",
       "3396                 D         C       NaN        NaN  WEBSTER ST   \n",
       "1125                 D         A       NaN        NaN      3RD ST   \n",
       "826                  G         B       NaN        NaN   CHURCH ST   \n",
       "\n",
       "     SECONDARY_RD    POINT_X   POINT_Y  VICTIM_DEGREE_OF_INJURY  VICTIM_ROLE  \\\n",
       "946     KEARNY ST -122.40351  37.78795                        4            3   \n",
       "1842      19TH ST -122.41482  37.76049                        4            2   \n",
       "3396     UNION ST -122.43384  37.79730                        4            2   \n",
       "1125  LE CONTE AV -122.39757  37.71887                        0            2   \n",
       "826       17TH ST -122.42851  37.76288                        4            3   \n",
       "\n",
       "      VICTIM_AGE  \n",
       "946           70  \n",
       "1842          27  \n",
       "3396          77  \n",
       "1125         998  \n",
       "826           83  "
      ]
     },
     "execution_count": 7,
     "metadata": {},
     "output_type": "execute_result"
    }
   ],
   "source": [
    "# Convert NaNs to string type\n",
    "cv = fixDFcolsForR(cv)\n",
    "cv.sample(5)"
   ]
  },
  {
   "cell_type": "markdown",
   "metadata": {},
   "source": [
    "#### Trying out logistic regression"
   ]
  },
  {
   "cell_type": "code",
   "execution_count": 8,
   "metadata": {},
   "outputs": [],
   "source": [
    "# from: https://towardsdatascience.com/building-a-logistic-regression-in-python-step-by-step-becd4d56c9c8\n",
    "import pandas as pd\n",
    "import numpy as np\n",
    "from sklearn import preprocessing\n",
    "import matplotlib.pyplot as plt \n",
    "plt.rc(\"font\", size=14)\n",
    "from sklearn.linear_model import LogisticRegression\n",
    "from sklearn.model_selection import train_test_split\n",
    "import seaborn as sns\n",
    "sns.set(style=\"white\")\n",
    "sns.set(style=\"whitegrid\", color_codes=True)"
   ]
  },
  {
   "cell_type": "code",
   "execution_count": 13,
   "metadata": {},
   "outputs": [
    {
     "data": {
      "text/html": [
       "<div>\n",
       "<style scoped>\n",
       "    .dataframe tbody tr th:only-of-type {\n",
       "        vertical-align: middle;\n",
       "    }\n",
       "\n",
       "    .dataframe tbody tr th {\n",
       "        vertical-align: top;\n",
       "    }\n",
       "\n",
       "    .dataframe thead th {\n",
       "        text-align: right;\n",
       "    }\n",
       "</style>\n",
       "<table border=\"1\" class=\"dataframe\">\n",
       "  <thead>\n",
       "    <tr style=\"text-align: right;\">\n",
       "      <th></th>\n",
       "      <th>CASE_ID</th>\n",
       "      <th>INTERSECTION</th>\n",
       "      <th>COLLISION_SEVERITY</th>\n",
       "      <th>LIGHTING</th>\n",
       "      <th>LOCATION_TYPE</th>\n",
       "      <th>MVIW</th>\n",
       "      <th>TYPE_OF_COLLISION</th>\n",
       "      <th>WEATHER_1</th>\n",
       "      <th>LATITUDE</th>\n",
       "      <th>LONGITUDE</th>\n",
       "      <th>PRIMARY_RD</th>\n",
       "      <th>SECONDARY_RD</th>\n",
       "      <th>POINT_X</th>\n",
       "      <th>POINT_Y</th>\n",
       "      <th>VICTIM_DEGREE_OF_INJURY</th>\n",
       "      <th>VICTIM_ROLE</th>\n",
       "      <th>VICTIM_AGE</th>\n",
       "      <th>Fatal</th>\n",
       "    </tr>\n",
       "  </thead>\n",
       "  <tbody>\n",
       "    <tr>\n",
       "      <th>0</th>\n",
       "      <td>90736476</td>\n",
       "      <td>N</td>\n",
       "      <td>4</td>\n",
       "      <td>A</td>\n",
       "      <td>nan</td>\n",
       "      <td>C</td>\n",
       "      <td>C</td>\n",
       "      <td>B</td>\n",
       "      <td>37.73747</td>\n",
       "      <td>-122.40784</td>\n",
       "      <td>US-101 N/B</td>\n",
       "      <td>ALEMANY BLVD U/C</td>\n",
       "      <td>-122.407801</td>\n",
       "      <td>37.737483</td>\n",
       "      <td>7</td>\n",
       "      <td>1</td>\n",
       "      <td>24</td>\n",
       "      <td>0.0</td>\n",
       "    </tr>\n",
       "    <tr>\n",
       "      <th>1</th>\n",
       "      <td>90736282</td>\n",
       "      <td>N</td>\n",
       "      <td>3</td>\n",
       "      <td>A</td>\n",
       "      <td>nan</td>\n",
       "      <td>C</td>\n",
       "      <td>C</td>\n",
       "      <td>A</td>\n",
       "      <td>37.73841</td>\n",
       "      <td>-122.40775</td>\n",
       "      <td>I-280 N/B TO US-101 N/B</td>\n",
       "      <td>CORTLAND AVENUE UNDER-CROSSING</td>\n",
       "      <td>NaN</td>\n",
       "      <td>NaN</td>\n",
       "      <td>7</td>\n",
       "      <td>2</td>\n",
       "      <td>27</td>\n",
       "      <td>0.0</td>\n",
       "    </tr>\n",
       "    <tr>\n",
       "      <th>2</th>\n",
       "      <td>90736282</td>\n",
       "      <td>N</td>\n",
       "      <td>3</td>\n",
       "      <td>A</td>\n",
       "      <td>nan</td>\n",
       "      <td>C</td>\n",
       "      <td>C</td>\n",
       "      <td>A</td>\n",
       "      <td>37.73841</td>\n",
       "      <td>-122.40775</td>\n",
       "      <td>I-280 N/B TO US-101 N/B</td>\n",
       "      <td>CORTLAND AVENUE UNDER-CROSSING</td>\n",
       "      <td>NaN</td>\n",
       "      <td>NaN</td>\n",
       "      <td>6</td>\n",
       "      <td>1</td>\n",
       "      <td>43</td>\n",
       "      <td>0.0</td>\n",
       "    </tr>\n",
       "    <tr>\n",
       "      <th>3</th>\n",
       "      <td>90735985</td>\n",
       "      <td>N</td>\n",
       "      <td>4</td>\n",
       "      <td>A</td>\n",
       "      <td>R</td>\n",
       "      <td>C</td>\n",
       "      <td>C</td>\n",
       "      <td>A</td>\n",
       "      <td>37.78522</td>\n",
       "      <td>-122.39317</td>\n",
       "      <td>I-80 E/B FROM ESSEX ST.</td>\n",
       "      <td>ESSEX ST</td>\n",
       "      <td>-122.393170</td>\n",
       "      <td>37.785220</td>\n",
       "      <td>7</td>\n",
       "      <td>1</td>\n",
       "      <td>38</td>\n",
       "      <td>0.0</td>\n",
       "    </tr>\n",
       "    <tr>\n",
       "      <th>4</th>\n",
       "      <td>90735985</td>\n",
       "      <td>N</td>\n",
       "      <td>4</td>\n",
       "      <td>A</td>\n",
       "      <td>R</td>\n",
       "      <td>C</td>\n",
       "      <td>C</td>\n",
       "      <td>A</td>\n",
       "      <td>37.78522</td>\n",
       "      <td>-122.39317</td>\n",
       "      <td>I-80 E/B FROM ESSEX ST.</td>\n",
       "      <td>ESSEX ST</td>\n",
       "      <td>-122.393170</td>\n",
       "      <td>37.785220</td>\n",
       "      <td>7</td>\n",
       "      <td>2</td>\n",
       "      <td>19</td>\n",
       "      <td>0.0</td>\n",
       "    </tr>\n",
       "  </tbody>\n",
       "</table>\n",
       "</div>"
      ],
      "text/plain": [
       "    CASE_ID INTERSECTION  COLLISION_SEVERITY LIGHTING LOCATION_TYPE MVIW  \\\n",
       "0  90736476            N                   4        A           nan    C   \n",
       "1  90736282            N                   3        A           nan    C   \n",
       "2  90736282            N                   3        A           nan    C   \n",
       "3  90735985            N                   4        A             R    C   \n",
       "4  90735985            N                   4        A             R    C   \n",
       "\n",
       "  TYPE_OF_COLLISION WEATHER_1  LATITUDE  LONGITUDE               PRIMARY_RD  \\\n",
       "0                 C         B  37.73747 -122.40784               US-101 N/B   \n",
       "1                 C         A  37.73841 -122.40775  I-280 N/B TO US-101 N/B   \n",
       "2                 C         A  37.73841 -122.40775  I-280 N/B TO US-101 N/B   \n",
       "3                 C         A  37.78522 -122.39317  I-80 E/B FROM ESSEX ST.   \n",
       "4                 C         A  37.78522 -122.39317  I-80 E/B FROM ESSEX ST.   \n",
       "\n",
       "                     SECONDARY_RD     POINT_X    POINT_Y  \\\n",
       "0                ALEMANY BLVD U/C -122.407801  37.737483   \n",
       "1  CORTLAND AVENUE UNDER-CROSSING         NaN        NaN   \n",
       "2  CORTLAND AVENUE UNDER-CROSSING         NaN        NaN   \n",
       "3                        ESSEX ST -122.393170  37.785220   \n",
       "4                        ESSEX ST -122.393170  37.785220   \n",
       "\n",
       "   VICTIM_DEGREE_OF_INJURY  VICTIM_ROLE  VICTIM_AGE  Fatal  \n",
       "0                        7            1          24    0.0  \n",
       "1                        7            2          27    0.0  \n",
       "2                        6            1          43    0.0  \n",
       "3                        7            1          38    0.0  \n",
       "4                        7            2          19    0.0  "
      ]
     },
     "execution_count": 13,
     "metadata": {},
     "output_type": "execute_result"
    }
   ],
   "source": [
    "# make \"fatal or not\" binary variable for Y\n",
    "cv.loc[cv.VICTIM_DEGREE_OF_INJURY == 1, \"Fatal\"] = 1\n",
    "cv.loc[cv.VICTIM_DEGREE_OF_INJURY != 1, \"Fatal\"] = 0\n",
    "cv.head()"
   ]
  },
  {
   "cell_type": "code",
   "execution_count": 17,
   "metadata": {},
   "outputs": [
    {
     "name": "stdout",
     "output_type": "stream",
     "text": [
      "Optimization terminated successfully.\n",
      "         Current function value: 0.092017\n",
      "         Iterations 10\n",
      "                         Results: Logit\n",
      "================================================================\n",
      "Model:              Logit            Pseudo R-squared: -2.389   \n",
      "Dependent Variable: Fatal            AIC:              1098.6633\n",
      "Date:               2019-09-28 17:32 BIC:              1105.3559\n",
      "No. Observations:   5959             Log-Likelihood:   -548.33  \n",
      "Df Model:           0                LL-Null:          -161.79  \n",
      "Df Residuals:       5958             LLR p-value:      nan      \n",
      "Converged:          1.0000           Scale:            1.0000   \n",
      "No. Iterations:     10.0000                                     \n",
      "-----------------------------------------------------------------\n",
      "             Coef.   Std.Err.     z      P>|z|    [0.025   0.975]\n",
      "-----------------------------------------------------------------\n",
      "VICTIM_AGE  -0.1469    0.0046  -31.7286  0.0000  -0.1560  -0.1379\n",
      "================================================================\n",
      "\n"
     ]
    }
   ],
   "source": [
    "import statsmodels.api as sm\n",
    "logit_model=sm.Logit(cv.Fatal, cv.VICTIM_AGE)\n",
    "result=logit_model.fit()\n",
    "print(result.summary2())"
   ]
  },
  {
   "cell_type": "code",
   "execution_count": 89,
   "metadata": {},
   "outputs": [
    {
     "name": "stderr",
     "output_type": "stream",
     "text": [
      "/anaconda3/lib/python3.7/site-packages/sklearn/linear_model/logistic.py:433: FutureWarning: Default solver will be changed to 'lbfgs' in 0.22. Specify a solver to silence this warning.\n",
      "  FutureWarning)\n"
     ]
    },
    {
     "data": {
      "text/plain": [
       "LogisticRegression(C=1.0, class_weight=None, dual=False, fit_intercept=True,\n",
       "          intercept_scaling=1, max_iter=100, multi_class='warn',\n",
       "          n_jobs=None, penalty='l2', random_state=None, solver='warn',\n",
       "          tol=0.0001, verbose=0, warm_start=False)"
      ]
     },
     "execution_count": 89,
     "metadata": {},
     "output_type": "execute_result"
    }
   ],
   "source": [
    "# model fitting\n",
    "from sklearn.linear_model import LogisticRegression\n",
    "from sklearn import metrics\n",
    "\n",
    "X = cv.VICTIM_AGE\n",
    "y = cv.Fatal\n",
    "\n",
    "X_train, X_test, y_train, y_test = train_test_split(X, y, test_size=0.3, random_state=0)\n",
    "logreg = LogisticRegression()\n",
    "# warning: need to reshape X_train?\n",
    "X_train = np.array(X_train).reshape(-1,1)\n",
    "logreg.fit(X_train, y_train)"
   ]
  },
  {
   "cell_type": "code",
   "execution_count": 90,
   "metadata": {},
   "outputs": [
    {
     "data": {
      "text/plain": [
       "<matplotlib.collections.PathCollection at 0x1c1f1ebd68>"
      ]
     },
     "execution_count": 90,
     "metadata": {},
     "output_type": "execute_result"
    },
    {
     "data": {
      "image/png": "[encoded data removed]",
      "text/plain": [
       "<Figure size 432x288 with 1 Axes>"
      ]
     },
     "metadata": {},
     "output_type": "display_data"
    }
   ],
   "source": [
    "plt.scatter(X_train, y_train, c=y_train, cmap='rainbow')"
   ]
  },
  {
   "cell_type": "code",
   "execution_count": 91,
   "metadata": {},
   "outputs": [
    {
     "name": "stdout",
     "output_type": "stream",
     "text": [
      "[[-0.00195549]]\n",
      "[-5.22874678]\n"
     ]
    }
   ],
   "source": [
    "# print coefficients\n",
    "print(logreg.coef_)\n",
    "print(logreg.intercept_)"
   ]
  },
  {
   "cell_type": "code",
   "execution_count": 97,
   "metadata": {},
   "outputs": [
    {
     "data": {
      "text/plain": [
       "array([[   0, 1778],\n",
       "       [   0,   10]])"
      ]
     },
     "execution_count": 97,
     "metadata": {},
     "output_type": "execute_result"
    }
   ],
   "source": [
    "# test model again data it hasn't seen yet\n",
    "# need to reshape X_test?\n",
    "X_test = np.array(X_test).reshape(-1,1)\n",
    "y_pred = lr.predict(X_test)\n",
    "confusion_matrix(y_test, y_pred)\n",
    "# Matrix: True positive, true negative; \n",
    "#         False positive, false negative"
   ]
  },
  {
   "cell_type": "code",
   "execution_count": 98,
   "metadata": {},
   "outputs": [
    {
     "data": {
      "text/plain": [
       "array([[0.99470966, 0.00529034],\n",
       "       [0.9950579 , 0.0049421 ],\n",
       "       [0.99513424, 0.00486576],\n",
       "       ...,\n",
       "       [0.99499013, 0.00500987],\n",
       "       [0.9949608 , 0.0050392 ],\n",
       "       [0.99500959, 0.00499041]])"
      ]
     },
     "execution_count": 98,
     "metadata": {},
     "output_type": "execute_result"
    }
   ],
   "source": [
    "logreg.predict_proba(X_test)"
   ]
  },
  {
   "cell_type": "code",
   "execution_count": 99,
   "metadata": {},
   "outputs": [
    {
     "data": {
      "text/plain": [
       "<matplotlib.collections.PathCollection at 0x1c1f4563c8>"
      ]
     },
     "execution_count": 99,
     "metadata": {},
     "output_type": "execute_result"
    },
    {
     "data": {
      "image/png": "[encoded data removed]",
      "text/plain": [
       "<Figure size 432x288 with 1 Axes>"
      ]
     },
     "metadata": {},
     "output_type": "display_data"
    }
   ],
   "source": [
    "# graph it out\n",
    "df = pd.DataFrame({'X': X_test[:,0], 'y': y_test})\n",
    "df = df.sort_values(by='X')\n",
    "\n",
    "\n",
    "from scipy.special import expit\n",
    "sigmoid_function = expit(df['X'] * logreg.coef_[0][0] + logreg.intercept_[0]).ravel()\n",
    "plt.plot(df['X'], sigmoid_function)\n",
    "plt.scatter(df['X'], df['y'], c=df['y'], cmap='rainbow', edgecolors='b')"
   ]
  },
  {
   "cell_type": "code",
   "execution_count": null,
   "metadata": {},
   "outputs": [],
   "source": []
  },
  {
   "cell_type": "code",
   "execution_count": null,
   "metadata": {},
   "outputs": [],
   "source": []
  },
  {
   "cell_type": "code",
   "execution_count": null,
   "metadata": {},
   "outputs": [],
   "source": []
  },
  {
   "cell_type": "code",
   "execution_count": null,
   "metadata": {},
   "outputs": [],
   "source": []
  },
  {
   "cell_type": "code",
   "execution_count": 70,
   "metadata": {},
   "outputs": [],
   "source": [
    "# from: https://towardsdatascience.com/logistic-regression-python-7c451928efee\n",
    "\n",
    "# Try with made up dataset\n",
    "from sklearn.datasets import make_classification\n",
    "from matplotlib import pyplot as plt\n",
    "from sklearn.linear_model import LogisticRegression\n",
    "import seaborn as sns\n",
    "sns.set()\n",
    "from sklearn.model_selection import train_test_split\n",
    "from sklearn.metrics import confusion_matrix\n",
    "import pandas as pd"
   ]
  },
  {
   "cell_type": "code",
   "execution_count": 71,
   "metadata": {},
   "outputs": [],
   "source": [
    "# generate dataset\n",
    "x, y = make_classification(\n",
    "    n_samples=100,\n",
    "    n_features=1,\n",
    "    n_classes=2,\n",
    "    n_clusters_per_class=1,\n",
    "    flip_y=0.03,\n",
    "    n_informative=1,\n",
    "    n_redundant=0,\n",
    "    n_repeated=0\n",
    ")"
   ]
  },
  {
   "cell_type": "code",
   "execution_count": 72,
   "metadata": {},
   "outputs": [
    {
     "data": {
      "text/plain": [
       "<matplotlib.collections.PathCollection at 0x1c1ec14c18>"
      ]
     },
     "execution_count": 72,
     "metadata": {},
     "output_type": "execute_result"
    },
    {
     "data": {
      "image/png": "[encoded data removed]",
      "text/plain": [
       "<Figure size 432x288 with 1 Axes>"
      ]
     },
     "metadata": {},
     "output_type": "display_data"
    }
   ],
   "source": [
    "plt.scatter(x, y, c=y, cmap='rainbow')"
   ]
  },
  {
   "cell_type": "code",
   "execution_count": 73,
   "metadata": {},
   "outputs": [],
   "source": [
    "# split data into data to train model and data to test model\n",
    "x_train, x_test, y_train, y_test = train_test_split(x, y, random_state=1)"
   ]
  },
  {
   "cell_type": "code",
   "execution_count": 74,
   "metadata": {},
   "outputs": [
    {
     "name": "stderr",
     "output_type": "stream",
     "text": [
      "/anaconda3/lib/python3.7/site-packages/sklearn/linear_model/logistic.py:433: FutureWarning: Default solver will be changed to 'lbfgs' in 0.22. Specify a solver to silence this warning.\n",
      "  FutureWarning)\n"
     ]
    },
    {
     "data": {
      "text/plain": [
       "LogisticRegression(C=1.0, class_weight=None, dual=False, fit_intercept=True,\n",
       "          intercept_scaling=1, max_iter=100, multi_class='warn',\n",
       "          n_jobs=None, penalty='l2', random_state=None, solver='warn',\n",
       "          tol=0.0001, verbose=0, warm_start=False)"
      ]
     },
     "execution_count": 74,
     "metadata": {},
     "output_type": "execute_result"
    }
   ],
   "source": [
    "lr = LogisticRegression()\n",
    "lr.fit(x_train, y_train)"
   ]
  },
  {
   "cell_type": "code",
   "execution_count": 75,
   "metadata": {},
   "outputs": [
    {
     "name": "stdout",
     "output_type": "stream",
     "text": [
      "[[3.18163247]]\n",
      "[0.1381381]\n"
     ]
    }
   ],
   "source": [
    "# print coefficients\n",
    "print(lr.coef_)\n",
    "print(lr.intercept_)"
   ]
  },
  {
   "cell_type": "code",
   "execution_count": 76,
   "metadata": {},
   "outputs": [
    {
     "data": {
      "text/plain": [
       "array([[11,  0],\n",
       "       [ 0, 14]])"
      ]
     },
     "execution_count": 76,
     "metadata": {},
     "output_type": "execute_result"
    }
   ],
   "source": [
    "# test model again data it hasn't seen yet\n",
    "y_pred = lr.predict(x_test)\n",
    "confusion_matrix(y_test, y_pred)\n",
    "# Matrix: True positive, true negative; \n",
    "#         False positive, false negative"
   ]
  },
  {
   "cell_type": "code",
   "execution_count": 78,
   "metadata": {},
   "outputs": [
    {
     "data": {
      "text/plain": [
       "array([[0.07052982, 0.92947018],\n",
       "       [0.95567555, 0.04432445],\n",
       "       [0.95236174, 0.04763826],\n",
       "       [0.06738908, 0.93261092],\n",
       "       [0.96573342, 0.03426658],\n",
       "       [0.94972767, 0.05027233],\n",
       "       [0.07655715, 0.92344285],\n",
       "       [0.96075586, 0.03924414],\n",
       "       [0.03632074, 0.96367926],\n",
       "       [0.00433389, 0.99566611],\n",
       "       [0.04552518, 0.95447482],\n",
       "       [0.02812739, 0.97187261],\n",
       "       [0.01516202, 0.98483798],\n",
       "       [0.95250293, 0.04749707],\n",
       "       [0.02462784, 0.97537216],\n",
       "       [0.95289792, 0.04710208],\n",
       "       [0.95829138, 0.04170862],\n",
       "       [0.03194672, 0.96805328],\n",
       "       [0.08491096, 0.91508904],\n",
       "       [0.95334904, 0.04665096],\n",
       "       [0.00400903, 0.99599097],\n",
       "       [0.96454729, 0.03545271],\n",
       "       [0.01565165, 0.98434835],\n",
       "       [0.95184964, 0.04815036],\n",
       "       [0.16294366, 0.83705634]])"
      ]
     },
     "execution_count": 78,
     "metadata": {},
     "output_type": "execute_result"
    }
   ],
   "source": [
    "# predict for each observation in x_test:\n",
    "# probability it belongs to first class, vs. second class\n",
    "lr.predict_proba(x_test)"
   ]
  },
  {
   "cell_type": "code",
   "execution_count": 79,
   "metadata": {},
   "outputs": [
    {
     "data": {
      "text/plain": [
       "<matplotlib.collections.PathCollection at 0x1c1ed57b70>"
      ]
     },
     "execution_count": 79,
     "metadata": {},
     "output_type": "execute_result"
    },
    {
     "data": {
      "image/png": "[encoded data removed]",
      "text/plain": [
       "<Figure size 432x288 with 1 Axes>"
      ]
     },
     "metadata": {},
     "output_type": "display_data"
    }
   ],
   "source": [
    "# graph it out\n",
    "df = pd.DataFrame({'x': x_test[:,0], 'y': y_test})\n",
    "df = df.sort_values(by='x')\n",
    "\n",
    "\n",
    "from scipy.special import expit\n",
    "sigmoid_function = expit(df['x'] * lr.coef_[0][0] + lr.intercept_[0]).ravel()\n",
    "plt.plot(df['x'], sigmoid_function)\n",
    "plt.scatter(df['x'], df['y'], c=df['y'], cmap='rainbow', edgecolors='b')"
   ]
  },
  {
   "cell_type": "code",
   "execution_count": null,
   "metadata": {},
   "outputs": [],
   "source": []
  },
  {
   "cell_type": "code",
   "execution_count": null,
   "metadata": {},
   "outputs": [],
   "source": []
  },
  {
   "cell_type": "code",
   "execution_count": null,
   "metadata": {},
   "outputs": [],
   "source": []
  }
 ],
 "metadata": {
  "kernelspec": {
   "display_name": "Python 3",
   "language": "python",
   "name": "python3"
  },
  "language_info": {
   "codemirror_mode": {
    "name": "ipython",
    "version": 3
   },
   "file_extension": ".py",
   "mimetype": "text/x-python",
   "name": "python",
   "nbconvert_exporter": "python",
   "pygments_lexer": "ipython3",
   "version": "3.7.3"
  }
 },
 "nbformat": 4,
 "nbformat_minor": 2
}
